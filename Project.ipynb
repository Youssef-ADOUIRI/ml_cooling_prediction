{
 "cells": [
  {
   "cell_type": "code",
   "execution_count": 16,
   "metadata": {
    "slideshow": {
     "slide_type": "skip"
    }
   },
   "outputs": [],
   "source": [
    "import numpy as np\n",
    "import matplotlib.pyplot as plt\n",
    "import matplotlib as mpl\n",
    "from matplotlib import colors \n",
    "import pandas as pd \n",
    "import seaborn as sns\n",
    "import random"
   ]
  },
  {
   "cell_type": "markdown",
   "metadata": {},
   "source": [
    "## <font color=darkred> Dataset </font>"
   ]
  },
  {
   "cell_type": "markdown",
   "metadata": {},
   "source": [
    "We provide below two datasets (one to train each model and another one to test each model).\n",
    "\n",
    "Datasets contain input features (meteorological data) and output (kWh consumptions) to be predicted from the inputs."
   ]
  },
  {
   "cell_type": "code",
   "execution_count": 17,
   "metadata": {
    "scrolled": true
   },
   "outputs": [
    {
     "data": {
      "text/html": [
       "<div>\n",
       "<style scoped>\n",
       "    .dataframe tbody tr th:only-of-type {\n",
       "        vertical-align: middle;\n",
       "    }\n",
       "\n",
       "    .dataframe tbody tr th {\n",
       "        vertical-align: top;\n",
       "    }\n",
       "\n",
       "    .dataframe thead th {\n",
       "        text-align: right;\n",
       "    }\n",
       "</style>\n",
       "<table border=\"1\" class=\"dataframe\">\n",
       "  <thead>\n",
       "    <tr style=\"text-align: right;\">\n",
       "      <th></th>\n",
       "      <th>temperature</th>\n",
       "      <th>humidity</th>\n",
       "      <th>horizontal_radiation</th>\n",
       "      <th>normal_radiation</th>\n",
       "      <th>heating</th>\n",
       "      <th>cooling</th>\n",
       "      <th>ventilation</th>\n",
       "      <th>gains</th>\n",
       "    </tr>\n",
       "  </thead>\n",
       "  <tbody>\n",
       "    <tr>\n",
       "      <th>0</th>\n",
       "      <td>4.93</td>\n",
       "      <td>65.34</td>\n",
       "      <td>0.0</td>\n",
       "      <td>0.0</td>\n",
       "      <td>171.65</td>\n",
       "      <td>0.0</td>\n",
       "      <td>0</td>\n",
       "      <td>138.6</td>\n",
       "    </tr>\n",
       "    <tr>\n",
       "      <th>1</th>\n",
       "      <td>5.07</td>\n",
       "      <td>54.61</td>\n",
       "      <td>0.0</td>\n",
       "      <td>0.0</td>\n",
       "      <td>170.59</td>\n",
       "      <td>0.0</td>\n",
       "      <td>0</td>\n",
       "      <td>138.6</td>\n",
       "    </tr>\n",
       "    <tr>\n",
       "      <th>2</th>\n",
       "      <td>3.71</td>\n",
       "      <td>62.33</td>\n",
       "      <td>0.0</td>\n",
       "      <td>0.0</td>\n",
       "      <td>206.19</td>\n",
       "      <td>0.0</td>\n",
       "      <td>0</td>\n",
       "      <td>138.6</td>\n",
       "    </tr>\n",
       "    <tr>\n",
       "      <th>3</th>\n",
       "      <td>2.36</td>\n",
       "      <td>70.05</td>\n",
       "      <td>0.0</td>\n",
       "      <td>0.0</td>\n",
       "      <td>241.49</td>\n",
       "      <td>0.0</td>\n",
       "      <td>0</td>\n",
       "      <td>138.6</td>\n",
       "    </tr>\n",
       "    <tr>\n",
       "      <th>4</th>\n",
       "      <td>1.00</td>\n",
       "      <td>77.77</td>\n",
       "      <td>0.0</td>\n",
       "      <td>0.0</td>\n",
       "      <td>275.97</td>\n",
       "      <td>0.0</td>\n",
       "      <td>0</td>\n",
       "      <td>138.6</td>\n",
       "    </tr>\n",
       "  </tbody>\n",
       "</table>\n",
       "</div>"
      ],
      "text/plain": [
       "   temperature  humidity  horizontal_radiation  normal_radiation  heating  \\\n",
       "0         4.93     65.34                   0.0               0.0   171.65   \n",
       "1         5.07     54.61                   0.0               0.0   170.59   \n",
       "2         3.71     62.33                   0.0               0.0   206.19   \n",
       "3         2.36     70.05                   0.0               0.0   241.49   \n",
       "4         1.00     77.77                   0.0               0.0   275.97   \n",
       "\n",
       "   cooling  ventilation  gains  \n",
       "0      0.0            0  138.6  \n",
       "1      0.0            0  138.6  \n",
       "2      0.0            0  138.6  \n",
       "3      0.0            0  138.6  \n",
       "4      0.0            0  138.6  "
      ]
     },
     "execution_count": 17,
     "metadata": {},
     "output_type": "execute_result"
    }
   ],
   "source": [
    "df_train = pd.read_csv('data_train.csv')\n",
    "df_train.head() "
   ]
  },
  {
   "cell_type": "code",
   "execution_count": 18,
   "metadata": {},
   "outputs": [
    {
     "data": {
      "text/plain": [
       "(17520, 8)"
      ]
     },
     "execution_count": 18,
     "metadata": {},
     "output_type": "execute_result"
    }
   ],
   "source": [
    "df_train.shape"
   ]
  },
  {
   "cell_type": "code",
   "execution_count": 19,
   "metadata": {},
   "outputs": [
    {
     "data": {
      "text/html": [
       "<div>\n",
       "<style scoped>\n",
       "    .dataframe tbody tr th:only-of-type {\n",
       "        vertical-align: middle;\n",
       "    }\n",
       "\n",
       "    .dataframe tbody tr th {\n",
       "        vertical-align: top;\n",
       "    }\n",
       "\n",
       "    .dataframe thead th {\n",
       "        text-align: right;\n",
       "    }\n",
       "</style>\n",
       "<table border=\"1\" class=\"dataframe\">\n",
       "  <thead>\n",
       "    <tr style=\"text-align: right;\">\n",
       "      <th></th>\n",
       "      <th>temperature</th>\n",
       "      <th>humidity</th>\n",
       "      <th>horizontal_radiation</th>\n",
       "      <th>normal_radiation</th>\n",
       "      <th>heating</th>\n",
       "      <th>cooling</th>\n",
       "      <th>ventilation</th>\n",
       "      <th>gains</th>\n",
       "    </tr>\n",
       "  </thead>\n",
       "  <tbody>\n",
       "    <tr>\n",
       "      <th>0</th>\n",
       "      <td>7.09</td>\n",
       "      <td>88.42</td>\n",
       "      <td>0.0</td>\n",
       "      <td>0.0</td>\n",
       "      <td>0.00</td>\n",
       "      <td>0.0</td>\n",
       "      <td>0</td>\n",
       "      <td>138.6</td>\n",
       "    </tr>\n",
       "    <tr>\n",
       "      <th>1</th>\n",
       "      <td>4.00</td>\n",
       "      <td>88.58</td>\n",
       "      <td>0.0</td>\n",
       "      <td>0.0</td>\n",
       "      <td>7.18</td>\n",
       "      <td>0.0</td>\n",
       "      <td>0</td>\n",
       "      <td>138.6</td>\n",
       "    </tr>\n",
       "    <tr>\n",
       "      <th>2</th>\n",
       "      <td>2.23</td>\n",
       "      <td>87.25</td>\n",
       "      <td>0.0</td>\n",
       "      <td>0.0</td>\n",
       "      <td>125.72</td>\n",
       "      <td>0.0</td>\n",
       "      <td>0</td>\n",
       "      <td>138.6</td>\n",
       "    </tr>\n",
       "    <tr>\n",
       "      <th>3</th>\n",
       "      <td>2.52</td>\n",
       "      <td>87.17</td>\n",
       "      <td>0.0</td>\n",
       "      <td>0.0</td>\n",
       "      <td>106.85</td>\n",
       "      <td>0.0</td>\n",
       "      <td>0</td>\n",
       "      <td>138.6</td>\n",
       "    </tr>\n",
       "    <tr>\n",
       "      <th>4</th>\n",
       "      <td>2.72</td>\n",
       "      <td>89.17</td>\n",
       "      <td>0.0</td>\n",
       "      <td>0.0</td>\n",
       "      <td>104.25</td>\n",
       "      <td>0.0</td>\n",
       "      <td>0</td>\n",
       "      <td>138.6</td>\n",
       "    </tr>\n",
       "  </tbody>\n",
       "</table>\n",
       "</div>"
      ],
      "text/plain": [
       "   temperature  humidity  horizontal_radiation  normal_radiation  heating  \\\n",
       "0         7.09     88.42                   0.0               0.0     0.00   \n",
       "1         4.00     88.58                   0.0               0.0     7.18   \n",
       "2         2.23     87.25                   0.0               0.0   125.72   \n",
       "3         2.52     87.17                   0.0               0.0   106.85   \n",
       "4         2.72     89.17                   0.0               0.0   104.25   \n",
       "\n",
       "   cooling  ventilation  gains  \n",
       "0      0.0            0  138.6  \n",
       "1      0.0            0  138.6  \n",
       "2      0.0            0  138.6  \n",
       "3      0.0            0  138.6  \n",
       "4      0.0            0  138.6  "
      ]
     },
     "execution_count": 19,
     "metadata": {},
     "output_type": "execute_result"
    }
   ],
   "source": [
    "df_test =pd.read_csv('data_test.csv')\n",
    "df_test.head()"
   ]
  },
  {
   "cell_type": "markdown",
   "metadata": {},
   "source": [
    "#### Build input/output from dataframe"
   ]
  },
  {
   "cell_type": "code",
   "execution_count": 20,
   "metadata": {},
   "outputs": [],
   "source": [
    "labels_output = ['heating','cooling','gains','ventilation']\n",
    "labels_input = ['temperature','humidity','normal_radiation','horizontal_radiation']"
   ]
  },
  {
   "cell_type": "code",
   "execution_count": 21,
   "metadata": {},
   "outputs": [],
   "source": [
    "def get_input_output(df,labels_usage,labels_input):\n",
    "    dfX = df[labels_input]\n",
    "    dfY = df[labels_usage]\n",
    "    return dfX, dfY"
   ]
  },
  {
   "cell_type": "code",
   "execution_count": 22,
   "metadata": {},
   "outputs": [],
   "source": [
    "dfX_train, dfY_train = get_input_output(df_train,labels_output,labels_input)\n",
    "dfX_test, dfY_test = get_input_output(df_test,labels_output,labels_input)"
   ]
  },
  {
   "cell_type": "code",
   "execution_count": 23,
   "metadata": {},
   "outputs": [],
   "source": [
    "from sklearn.preprocessing import MinMaxScaler, StandardScaler\n",
    "from sklearn.model_selection import train_test_split"
   ]
  },
  {
   "cell_type": "code",
   "execution_count": 24,
   "metadata": {},
   "outputs": [],
   "source": [
    "def scaler_fit_transform(d_train,d_test):\n",
    "    scaler = MinMaxScaler()\n",
    "    data_train_sc = scaler.fit_transform(d_train) \n",
    "    data_test_sc = scaler.transform(d_test)\n",
    "    return scaler, data_train_sc, data_test_sc"
   ]
  },
  {
   "cell_type": "code",
   "execution_count": 25,
   "metadata": {},
   "outputs": [],
   "source": [
    "scaler_x, X_train_sc, X_test_sc = scaler_fit_transform(dfX_train,dfX_test) \n",
    "scaler_y, y_train_sc, y_test_sc = scaler_fit_transform(dfY_train,dfY_test) "
   ]
  },
  {
   "cell_type": "code",
   "execution_count": 27,
   "metadata": {},
   "outputs": [],
   "source": [
    "import torch\n",
    "import torch.nn as nn\n",
    "from torch.utils.data import TensorDataset, DataLoader\n",
    "class TSDataset(torch.utils.data.Dataset):\n",
    "    def __init__(self, X, y, seq_len=1):\n",
    "        self.X = X\n",
    "        self.y = y\n",
    "        self.seq_len = seq_len\n",
    "\n",
    "    def __len__(self):\n",
    "        return self.X.__len__() - (self.seq_len-1)\n",
    "\n",
    "    def __getitem__(self, index):\n",
    "        return (self.X[index:index+self.seq_len], self.y[index:index+self.seq_len])"
   ]
  },
  {
   "cell_type": "code",
   "execution_count": 28,
   "metadata": {},
   "outputs": [],
   "source": [
    "# We define a problem where we want to predict 1 week (7*24h) of output from the input\n",
    "seq_len = 24*7\n",
    "# Each gradient step uses batch_size sequences of input/output\n",
    "batch_size = 16"
   ]
  },
  {
   "cell_type": "code",
   "execution_count": 29,
   "metadata": {},
   "outputs": [],
   "source": [
    "def set_loader(X_train,y_train,X_test,y_test,seq_len,batch_size): \n",
    "    train_dataset = TSDataset(torch.Tensor(X_train), torch.Tensor(y_train), seq_len)\n",
    "    test_dataset = TSDataset(torch.Tensor(X_test), torch.Tensor(y_test), seq_len)\n",
    "    train_loader = DataLoader(train_dataset, batch_size, shuffle=True, drop_last=True)\n",
    "    test_loader = DataLoader(test_dataset, batch_size, shuffle=False, drop_last=True)\n",
    "    return train_dataset, test_dataset, train_loader, test_loader"
   ]
  },
  {
   "cell_type": "code",
   "execution_count": 30,
   "metadata": {},
   "outputs": [],
   "source": [
    "train_dataset, test_dataset, train_loader, test_loader = set_loader(X_train_sc,y_train_sc,X_test_sc,y_test_sc,seq_len,batch_size)"
   ]
  },
  {
   "cell_type": "code",
   "execution_count": 31,
   "metadata": {},
   "outputs": [],
   "source": [
    "import torch\n",
    "import torch.nn as nn\n",
    "import torch.optim as optim"
   ]
  },
  {
   "cell_type": "markdown",
   "metadata": {},
   "source": [
    "## <font color=darkred> Models </font>"
   ]
  },
  {
   "cell_type": "markdown",
   "metadata": {},
   "source": [
    "### Recurrent architectures "
   ]
  },
  {
   "cell_type": "markdown",
   "metadata": {},
   "source": [
    " - Complete the following RNNmodel class"
   ]
  },
  {
   "cell_type": "code",
   "execution_count": null,
   "metadata": {},
   "outputs": [],
   "source": [
    "class RNNmodel(nn.Module):\n",
    "    def __init__(self, input_d, hidden_d, layer_n, output_d, dropout_p):\n",
    "        \"\"\"\n",
    "        input_d (int): dimension of the input layer\n",
    "        hidden_d (int): dimension of each layer\n",
    "        layer_n (int): number of layers\n",
    "        output_d (int): dimension of output layer\n",
    "        dropout_p (float): probability of dropping neurons\n",
    "        \"\"\"\n",
    "        super(RNNmodel, self).__init__()\n",
    "\n",
    "        self.hidden_d = hidden_d\n",
    "        self.layer_n = layer_n\n",
    "        \n",
    "        # complete the following RNN module\n",
    "        # TO DO\n",
    "        # self.rnn = \n",
    "        # Add a linear output for the regression problem\n",
    "        # TO DO\n",
    "        # self.fc = \n",
    "\n",
    "    def forward(self, x):\n",
    "        \"\"\"\n",
    "        x (torch.Tensor): input tensor (batch size, sequence length, input_d)\n",
    "        \"\"\"\n",
    "\n",
    "        # Forward pass\n",
    "        # call the RNN module to compute the output and the hidden state of the RNN fed with x\n",
    "        # TO DO\n",
    "        # out, h0 = \n",
    "\n",
    "        out = self.fc(out)\n",
    "        return out"
   ]
  },
  {
   "cell_type": "markdown",
   "metadata": {},
   "source": [
    " - Complete similarly the following LSTMmodel class"
   ]
  },
  {
   "cell_type": "code",
   "execution_count": null,
   "metadata": {},
   "outputs": [],
   "source": [
    "class LSTMmodel(nn.Module):\n",
    "    def __init__(self, input_d, hidden_d, layer_n, output_d, dropout_p):\n",
    "        \"\"\"\n",
    "        input_d (int): dimension of the input layer\n",
    "        hidden_d (int): dimension of each layer\n",
    "        layer_n (int): number of layers\n",
    "        output_d (int): dimension of output layer\n",
    "        dropout_p (float): probability of dropping neurons\n",
    "        \"\"\"\n",
    "        super(LSTMmodel, self).__init__()\n",
    "\n",
    "        self.hidden_d = hidden_d\n",
    "        self.layer_d = layer_n\n",
    "\n",
    "        # complete the LSTM module\n",
    "        # TO DO \n",
    "        \n",
    "\n",
    "    def forward(self, x):\n",
    "        \"\"\"\n",
    "        x (torch.Tensor): input tensor (batch size, sequence length, input_d)\n",
    "        \"\"\"\n",
    "\n",
    "        # Complete the forward pass \n",
    "        # TO DO\n",
    "    \n",
    "\n",
    "        return out"
   ]
  },
  {
   "cell_type": "markdown",
   "metadata": {},
   "source": [
    " - Provide similarly a GRUmodel class"
   ]
  },
  {
   "cell_type": "code",
   "execution_count": null,
   "metadata": {},
   "outputs": [],
   "source": [
    "# TO DO"
   ]
  },
  {
   "cell_type": "markdown",
   "metadata": {},
   "source": [
    "## <font color=darkred> Optimization </font>"
   ]
  },
  {
   "cell_type": "markdown",
   "metadata": {},
   "source": [
    " - Complete the following class to optimize all models"
   ]
  },
  {
   "cell_type": "code",
   "execution_count": null,
   "metadata": {},
   "outputs": [],
   "source": [
    "class Optimization:\n",
    "    def __init__(self, model, loss_fn, optimizer, device):\n",
    "        \"\"\"\n",
    "        model: selected model \n",
    "        loss_fn: loss function\n",
    "        optimizer: function to optimize loss\n",
    "        \"\"\"\n",
    "        self.model = model\n",
    "        self.loss_fn = loss_fn\n",
    "        self.optimizer = optimizer\n",
    "        self.device = device\n",
    "        self.train_losses = []\n",
    "        self.val_losses = []\n",
    "\n",
    "    def train_step(self, x, y):\n",
    "        \"\"\"\n",
    "        x: input data\n",
    "        y: target data\n",
    "        \"\"\"\n",
    "\n",
    "        self.model.train()\n",
    "\n",
    "        # Compute the prediction provided by model \n",
    "        # TO DO\n",
    "        # yhat = \n",
    "\n",
    "        # Compute loss\n",
    "        # TO DO\n",
    "        #loss = \n",
    "        \n",
    "        # Gradient for the optimization\n",
    "        loss.backward()\n",
    "\n",
    "        # Updates parameters\n",
    "        self.optimizer.step()\n",
    "        self.optimizer.zero_grad()\n",
    "\n",
    "        return loss.item()\n",
    "\n",
    "    def train(self, train_loader, val_loader, batch_size=64, n_epochs=50, n_features=1):\n",
    "        \"\"\"\n",
    "        train_loader: training data\n",
    "        val_loader: validation data\n",
    "        batch_size: batch size\n",
    "        n_epochs: number of epochs\n",
    "        n_features: number of features\n",
    "        \"\"\"\n",
    "        for epoch in range(1, n_epochs + 1):\n",
    "            batch_losses = []\n",
    "            for x_batch, y_batch in train_loader:\n",
    "                x_batch = x_batch.to(self.device)\n",
    "                y_batch = y_batch.to(self.device)\n",
    "                # Compute the loss using train_step on the current batch\n",
    "                # TO DO\n",
    "                #loss = \n",
    "                batch_losses.append(loss)\n",
    "            training_loss = np.mean(batch_losses)\n",
    "            self.train_losses.append(training_loss)\n",
    "\n",
    "            with torch.no_grad():\n",
    "                batch_val_losses = []\n",
    "                for x_val, y_val in val_loader:\n",
    "                    x_val = x_val.to(self.device)\n",
    "                    y_val = y_val.to(self.device)\n",
    "                    self.model.eval()\n",
    "                    # Compute the loss function on the current validation batch\n",
    "                    # TO DO\n",
    "                    # yhat = \n",
    "                    # val_loss = \n",
    "                    batch_val_losses.append(val_loss)\n",
    "                validation_loss = np.mean(batch_val_losses)\n",
    "                self.val_losses.append(validation_loss)\n",
    "\n",
    "\n",
    "                print(f\"[{epoch}/{n_epochs}] Training loss: {training_loss:.4f}\\t Validation loss: {validation_loss:.4f}\")\n",
    "\n",
    "    def evaluate(self, test_loader, batch_size=1, n_features=1):\n",
    "        \"\"\"\n",
    "        test_loader: dataLoader\n",
    "        batch_size: batch size\n",
    "        n_features: number of features\n",
    "        \"\"\"\n",
    "    \n",
    "        with torch.no_grad():\n",
    "            predictions = []\n",
    "            values = []\n",
    "            for x_test, y_test in test_loader:\n",
    "                x_test = x_test.to(self.device)\n",
    "                y_test = y_test.to(self.device)\n",
    "\n",
    "                self.model.eval()\n",
    "                yhat = self.model(x_test)\n",
    "\n",
    "                yhat=yhat.cpu().data.numpy()\n",
    "                predictions.append(yhat)\n",
    "                y_test=y_test.cpu().data.numpy()\n",
    "                values.append(y_test)\n",
    "\n",
    "        return predictions, values\n",
    "\n",
    "    def plot_losses(self):\n",
    "        # Plot train_losses and val_losses (to be called after training)\n",
    "        # TO DO\n"
   ]
  },
  {
   "cell_type": "code",
   "execution_count": null,
   "metadata": {},
   "outputs": [],
   "source": []
  },
  {
   "cell_type": "markdown",
   "metadata": {},
   "source": [
    "## <font color=darkred> Training </font>"
   ]
  },
  {
   "cell_type": "code",
   "execution_count": null,
   "metadata": {},
   "outputs": [],
   "source": [
    "# parameters of the neural networks\n",
    "# input dimension\n",
    "input_d = 4\n",
    "# output dimension\n",
    "output_d = 4\n",
    "# hidden layers dimension\n",
    "hidden_d = 8\n",
    "#number of layers\n",
    "layer_n = 2\n",
    "# number of times all data are processed during training\n",
    "n_epochs = 10\n",
    "# parameters for the optimizer\n",
    "lrate = 1e-4\n",
    "weight_decay = 1e-6 "
   ]
  },
  {
   "cell_type": "code",
   "execution_count": null,
   "metadata": {},
   "outputs": [],
   "source": [
    "model_params = {'input_d': input_d,\n",
    "                'hidden_d' : hidden_d,\n",
    "                'layer_n' : layer_n,\n",
    "                'output_d' : output_d}"
   ]
  },
  {
   "cell_type": "code",
   "execution_count": null,
   "metadata": {},
   "outputs": [],
   "source": [
    "def get_model(model, model_params):\n",
    "    models = {\"rnn\": RNNmodel,\"lstm\": LSTMmodel,\"gru\": GRUmodel}\n",
    "    return models.get(model.lower())(**model_params)"
   ]
  },
  {
   "cell_type": "code",
   "execution_count": null,
   "metadata": {},
   "outputs": [],
   "source": [
    "# default loss function: MSE\n",
    "loss_fn = nn.MSELoss(reduction=\"mean\")\n",
    "device = \"cuda\" if torch.cuda.is_available() else \"cpu\""
   ]
  },
  {
   "cell_type": "markdown",
   "metadata": {},
   "source": [
    " - Complete the following cell to train a RNN"
   ]
  },
  {
   "cell_type": "code",
   "execution_count": null,
   "metadata": {
    "scrolled": true
   },
   "outputs": [],
   "source": [
    "model_name = 'rnn'\n",
    "# get model \n",
    "# TO DO\n",
    "# model =  \n",
    "# Set optimizer\n",
    "optimizer = optim.Adam(model.parameters(), lr=lrate, weight_decay=weight_decay)\n",
    "# Call the optimization class, train opt_rnn and plot losses\n",
    "# TO DO \n",
    "# opt_rnn = \n",
    "# opt_rnn.\n",
    "# opt_rnn."
   ]
  },
  {
   "cell_type": "markdown",
   "metadata": {},
   "source": [
    " - Analyze the influence of the learning rate of the optimizer and of the batch size on the test and train losses"
   ]
  },
  {
   "cell_type": "code",
   "execution_count": null,
   "metadata": {},
   "outputs": [],
   "source": [
    "# TO DO"
   ]
  },
  {
   "cell_type": "markdown",
   "metadata": {},
   "source": [
    " - Train a LSTM and a GRU model"
   ]
  },
  {
   "cell_type": "code",
   "execution_count": null,
   "metadata": {},
   "outputs": [],
   "source": [
    "# TO DO"
   ]
  },
  {
   "cell_type": "markdown",
   "metadata": {},
   "source": [
    "- Compute the MSE for each model on the test set  and display some predictions to provide qualitative results"
   ]
  },
  {
   "cell_type": "code",
   "execution_count": null,
   "metadata": {},
   "outputs": [],
   "source": [
    "# TO DO"
   ]
  },
  {
   "cell_type": "markdown",
   "metadata": {},
   "source": [
    " - Perform a cross validation to get the results of the best model (you can optimize the number of layers and the hidden dimension for instance)."
   ]
  },
  {
   "cell_type": "code",
   "execution_count": null,
   "metadata": {},
   "outputs": [],
   "source": []
  },
  {
   "cell_type": "markdown",
   "metadata": {},
   "source": [
    " - CNN can also be used to model time series, in particular with one dimensional convolutional layers.\n",
    " \n",
    " - These layers are defined by ``nn.Conv1d`` in Torch with main arguments ``in_channels``, ``out_channels``, ``kernel_size`` (an integer in the one dimensional setting), ``stride`` and ``padding``.\n",
    " \n",
    " - Build a CNNmodel class and compare its performance with previous recurrent models."
   ]
  },
  {
   "cell_type": "code",
   "execution_count": null,
   "metadata": {},
   "outputs": [],
   "source": [
    "# TO DO"
   ]
  },
  {
   "cell_type": "markdown",
   "metadata": {},
   "source": [
    " - (**Bonus**) Implement a (conditional) VAE to train the distribution of the ouput"
   ]
  },
  {
   "cell_type": "code",
   "execution_count": null,
   "metadata": {},
   "outputs": [],
   "source": [
    "#TO DO"
   ]
  }
 ],
 "metadata": {
  "celltoolbar": "Diaporama",
  "kernelspec": {
   "display_name": "Python 3 (ipykernel)",
   "language": "python",
   "name": "python3"
  },
  "language_info": {
   "codemirror_mode": {
    "name": "ipython",
    "version": 3
   },
   "file_extension": ".py",
   "mimetype": "text/x-python",
   "name": "python",
   "nbconvert_exporter": "python",
   "pygments_lexer": "ipython3",
   "version": "3.9.13"
  }
 },
 "nbformat": 4,
 "nbformat_minor": 2
}
